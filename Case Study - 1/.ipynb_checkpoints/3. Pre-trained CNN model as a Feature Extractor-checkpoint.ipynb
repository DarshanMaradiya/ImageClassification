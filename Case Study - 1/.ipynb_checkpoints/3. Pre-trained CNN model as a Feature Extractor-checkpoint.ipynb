{
 "cells": [
  {
   "cell_type": "markdown",
   "metadata": {},
   "source": [
    "# VGG-16 model"
   ]
  },
  {
   "cell_type": "code",
   "execution_count": 1,
   "metadata": {},
   "outputs": [
    {
     "name": "stderr",
     "output_type": "stream",
     "text": [
      "Using plaidml.keras.backend backend.\n"
     ]
    }
   ],
   "source": [
    "from keras.applications import vgg16\n",
    "from keras.models import Model\n",
    "import keras"
   ]
  },
  {
   "cell_type": "code",
   "execution_count": 2,
   "metadata": {},
   "outputs": [],
   "source": [
    "batch_size = 30\n",
    "epochs = 30\n",
    "input_shape = (150, 150, 3)"
   ]
  },
  {
   "cell_type": "code",
   "execution_count": 3,
   "metadata": {
    "scrolled": false
   },
   "outputs": [
    {
     "name": "stdout",
     "output_type": "stream",
     "text": [
      "importing Jupyter notebook from Dataset_utils.ipynb\n"
     ]
    }
   ],
   "source": [
    "import import_ipynb\n",
    "from Dataset_utils import get_imgs_scaled, get_labels_enc\n",
    "\n",
    "train_imgs_scaled, validation_imgs_scaled = get_imgs_scaled()\n",
    "train_labels_enc, validation_labels_enc = get_labels_enc()"
   ]
  },
  {
   "cell_type": "code",
   "execution_count": 4,
   "metadata": {},
   "outputs": [
    {
     "name": "stderr",
     "output_type": "stream",
     "text": [
      "INFO:plaidml:Opening device \"opencl_amd_hainan.0\"\n"
     ]
    }
   ],
   "source": [
    "vgg = vgg16.VGG16(include_top=False, weights='imagenet', \n",
    "                                     input_shape=input_shape)"
   ]
  },
  {
   "cell_type": "code",
   "execution_count": 5,
   "metadata": {},
   "outputs": [],
   "source": [
    "output = vgg.layers[-1].output\n",
    "output = keras.layers.Flatten()(output)\n",
    "vgg_model = Model(vgg.input, output)"
   ]
  },
  {
   "cell_type": "code",
   "execution_count": 6,
   "metadata": {},
   "outputs": [
    {
     "name": "stderr",
     "output_type": "stream",
     "text": [
      "c:\\users\\darsh\\appdata\\local\\programs\\python\\python37\\lib\\site-packages\\ipykernel_launcher.py:6: FutureWarning: Passing a negative integer is deprecated in version 1.0 and will not be supported in future version. Instead, use None to not limit the column width.\n",
      "  \n"
     ]
    },
    {
     "data": {
      "text/html": [
       "<div>\n",
       "<style scoped>\n",
       "    .dataframe tbody tr th:only-of-type {\n",
       "        vertical-align: middle;\n",
       "    }\n",
       "\n",
       "    .dataframe tbody tr th {\n",
       "        vertical-align: top;\n",
       "    }\n",
       "\n",
       "    .dataframe thead th {\n",
       "        text-align: right;\n",
       "    }\n",
       "</style>\n",
       "<table border=\"1\" class=\"dataframe\">\n",
       "  <thead>\n",
       "    <tr style=\"text-align: right;\">\n",
       "      <th></th>\n",
       "      <th>Layer Type</th>\n",
       "      <th>Layer Name</th>\n",
       "      <th>Layer Trainable</th>\n",
       "    </tr>\n",
       "  </thead>\n",
       "  <tbody>\n",
       "    <tr>\n",
       "      <th>0</th>\n",
       "      <td>&lt;keras.engine.input_layer.InputLayer object at 0x000002C3DE2AF0C8&gt;</td>\n",
       "      <td>input_1</td>\n",
       "      <td>False</td>\n",
       "    </tr>\n",
       "    <tr>\n",
       "      <th>1</th>\n",
       "      <td>&lt;keras.layers.convolutional.Conv2D object at 0x000002C3F2E3FA48&gt;</td>\n",
       "      <td>block1_conv1</td>\n",
       "      <td>False</td>\n",
       "    </tr>\n",
       "    <tr>\n",
       "      <th>2</th>\n",
       "      <td>&lt;keras.layers.convolutional.Conv2D object at 0x000002C3F2E3FBC8&gt;</td>\n",
       "      <td>block1_conv2</td>\n",
       "      <td>False</td>\n",
       "    </tr>\n",
       "    <tr>\n",
       "      <th>3</th>\n",
       "      <td>&lt;keras.layers.pooling.MaxPooling2D object at 0x000002C3FFBFFAC8&gt;</td>\n",
       "      <td>block1_pool</td>\n",
       "      <td>False</td>\n",
       "    </tr>\n",
       "    <tr>\n",
       "      <th>4</th>\n",
       "      <td>&lt;keras.layers.convolutional.Conv2D object at 0x000002C3DE41B148&gt;</td>\n",
       "      <td>block2_conv1</td>\n",
       "      <td>False</td>\n",
       "    </tr>\n",
       "    <tr>\n",
       "      <th>5</th>\n",
       "      <td>&lt;keras.layers.convolutional.Conv2D object at 0x000002C3DF190948&gt;</td>\n",
       "      <td>block2_conv2</td>\n",
       "      <td>False</td>\n",
       "    </tr>\n",
       "    <tr>\n",
       "      <th>6</th>\n",
       "      <td>&lt;keras.layers.pooling.MaxPooling2D object at 0x000002C3FFBD0388&gt;</td>\n",
       "      <td>block2_pool</td>\n",
       "      <td>False</td>\n",
       "    </tr>\n",
       "    <tr>\n",
       "      <th>7</th>\n",
       "      <td>&lt;keras.layers.convolutional.Conv2D object at 0x000002C3DF1AC9C8&gt;</td>\n",
       "      <td>block3_conv1</td>\n",
       "      <td>False</td>\n",
       "    </tr>\n",
       "    <tr>\n",
       "      <th>8</th>\n",
       "      <td>&lt;keras.layers.convolutional.Conv2D object at 0x000002C3F2E1A288&gt;</td>\n",
       "      <td>block3_conv2</td>\n",
       "      <td>False</td>\n",
       "    </tr>\n",
       "    <tr>\n",
       "      <th>9</th>\n",
       "      <td>&lt;keras.layers.convolutional.Conv2D object at 0x000002C3DF1ACFC8&gt;</td>\n",
       "      <td>block3_conv3</td>\n",
       "      <td>False</td>\n",
       "    </tr>\n",
       "    <tr>\n",
       "      <th>10</th>\n",
       "      <td>&lt;keras.layers.pooling.MaxPooling2D object at 0x000002C3DF119688&gt;</td>\n",
       "      <td>block3_pool</td>\n",
       "      <td>False</td>\n",
       "    </tr>\n",
       "    <tr>\n",
       "      <th>11</th>\n",
       "      <td>&lt;keras.layers.convolutional.Conv2D object at 0x000002C3DF11DC08&gt;</td>\n",
       "      <td>block4_conv1</td>\n",
       "      <td>False</td>\n",
       "    </tr>\n",
       "    <tr>\n",
       "      <th>12</th>\n",
       "      <td>&lt;keras.layers.convolutional.Conv2D object at 0x000002C3DF1243C8&gt;</td>\n",
       "      <td>block4_conv2</td>\n",
       "      <td>False</td>\n",
       "    </tr>\n",
       "    <tr>\n",
       "      <th>13</th>\n",
       "      <td>&lt;keras.layers.convolutional.Conv2D object at 0x000002C3DF124DC8&gt;</td>\n",
       "      <td>block4_conv3</td>\n",
       "      <td>False</td>\n",
       "    </tr>\n",
       "    <tr>\n",
       "      <th>14</th>\n",
       "      <td>&lt;keras.layers.pooling.MaxPooling2D object at 0x000002C3DF1278C8&gt;</td>\n",
       "      <td>block4_pool</td>\n",
       "      <td>False</td>\n",
       "    </tr>\n",
       "    <tr>\n",
       "      <th>15</th>\n",
       "      <td>&lt;keras.layers.convolutional.Conv2D object at 0x000002C3DF12D888&gt;</td>\n",
       "      <td>block5_conv1</td>\n",
       "      <td>False</td>\n",
       "    </tr>\n",
       "    <tr>\n",
       "      <th>16</th>\n",
       "      <td>&lt;keras.layers.convolutional.Conv2D object at 0x000002C3DF12DF88&gt;</td>\n",
       "      <td>block5_conv2</td>\n",
       "      <td>False</td>\n",
       "    </tr>\n",
       "    <tr>\n",
       "      <th>17</th>\n",
       "      <td>&lt;keras.layers.convolutional.Conv2D object at 0x000002C3DF1335C8&gt;</td>\n",
       "      <td>block5_conv3</td>\n",
       "      <td>False</td>\n",
       "    </tr>\n",
       "    <tr>\n",
       "      <th>18</th>\n",
       "      <td>&lt;keras.layers.pooling.MaxPooling2D object at 0x000002C3DF1309C8&gt;</td>\n",
       "      <td>block5_pool</td>\n",
       "      <td>False</td>\n",
       "    </tr>\n",
       "    <tr>\n",
       "      <th>19</th>\n",
       "      <td>&lt;keras.layers.core.Flatten object at 0x000002C3F2E14BC8&gt;</td>\n",
       "      <td>flatten_1</td>\n",
       "      <td>False</td>\n",
       "    </tr>\n",
       "  </tbody>\n",
       "</table>\n",
       "</div>"
      ],
      "text/plain": [
       "                                                            Layer Type  \\\n",
       "0   <keras.engine.input_layer.InputLayer object at 0x000002C3DE2AF0C8>   \n",
       "1   <keras.layers.convolutional.Conv2D object at 0x000002C3F2E3FA48>     \n",
       "2   <keras.layers.convolutional.Conv2D object at 0x000002C3F2E3FBC8>     \n",
       "3   <keras.layers.pooling.MaxPooling2D object at 0x000002C3FFBFFAC8>     \n",
       "4   <keras.layers.convolutional.Conv2D object at 0x000002C3DE41B148>     \n",
       "5   <keras.layers.convolutional.Conv2D object at 0x000002C3DF190948>     \n",
       "6   <keras.layers.pooling.MaxPooling2D object at 0x000002C3FFBD0388>     \n",
       "7   <keras.layers.convolutional.Conv2D object at 0x000002C3DF1AC9C8>     \n",
       "8   <keras.layers.convolutional.Conv2D object at 0x000002C3F2E1A288>     \n",
       "9   <keras.layers.convolutional.Conv2D object at 0x000002C3DF1ACFC8>     \n",
       "10  <keras.layers.pooling.MaxPooling2D object at 0x000002C3DF119688>     \n",
       "11  <keras.layers.convolutional.Conv2D object at 0x000002C3DF11DC08>     \n",
       "12  <keras.layers.convolutional.Conv2D object at 0x000002C3DF1243C8>     \n",
       "13  <keras.layers.convolutional.Conv2D object at 0x000002C3DF124DC8>     \n",
       "14  <keras.layers.pooling.MaxPooling2D object at 0x000002C3DF1278C8>     \n",
       "15  <keras.layers.convolutional.Conv2D object at 0x000002C3DF12D888>     \n",
       "16  <keras.layers.convolutional.Conv2D object at 0x000002C3DF12DF88>     \n",
       "17  <keras.layers.convolutional.Conv2D object at 0x000002C3DF1335C8>     \n",
       "18  <keras.layers.pooling.MaxPooling2D object at 0x000002C3DF1309C8>     \n",
       "19  <keras.layers.core.Flatten object at 0x000002C3F2E14BC8>             \n",
       "\n",
       "      Layer Name  Layer Trainable  \n",
       "0   input_1       False            \n",
       "1   block1_conv1  False            \n",
       "2   block1_conv2  False            \n",
       "3   block1_pool   False            \n",
       "4   block2_conv1  False            \n",
       "5   block2_conv2  False            \n",
       "6   block2_pool   False            \n",
       "7   block3_conv1  False            \n",
       "8   block3_conv2  False            \n",
       "9   block3_conv3  False            \n",
       "10  block3_pool   False            \n",
       "11  block4_conv1  False            \n",
       "12  block4_conv2  False            \n",
       "13  block4_conv3  False            \n",
       "14  block4_pool   False            \n",
       "15  block5_conv1  False            \n",
       "16  block5_conv2  False            \n",
       "17  block5_conv3  False            \n",
       "18  block5_pool   False            \n",
       "19  flatten_1     False            "
      ]
     },
     "execution_count": 6,
     "metadata": {},
     "output_type": "execute_result"
    }
   ],
   "source": [
    "vgg_model.trainable = False\n",
    "for layer in vgg_model.layers:\n",
    "    layer.trainable = False\n",
    "    \n",
    "import pandas as pd\n",
    "pd.set_option('max_colwidth', -1)\n",
    "layers = [(layer, layer.name, layer.trainable) for layer in vgg_model.layers]\n",
    "pd.DataFrame(layers, columns=['Layer Type', 'Layer Name', 'Layer Trainable'])"
   ]
  },
  {
   "cell_type": "code",
   "execution_count": 7,
   "metadata": {},
   "outputs": [
    {
     "name": "stdout",
     "output_type": "stream",
     "text": [
      "(1, 4, 4, 512)\n"
     ]
    },
    {
     "data": {
      "text/plain": [
       "<matplotlib.image.AxesImage at 0x2c40f3617c8>"
      ]
     },
     "execution_count": 7,
     "metadata": {},
     "output_type": "execute_result"
    },
    {
     "data": {
      "image/png": "[encoded data removed]",
      "text/plain": [
       "<Figure size 432x288 with 1 Axes>"
      ]
     },
     "metadata": {
      "needs_background": "light"
     },
     "output_type": "display_data"
    }
   ],
   "source": [
    "import matplotlib.pyplot as plt\n",
    "%matplotlib inline\n",
    "\n",
    "bottleneck_feature_example = vgg.predict(train_imgs_scaled[0:1])\n",
    "print(bottleneck_feature_example.shape)\n",
    "plt.imshow(bottleneck_feature_example[0][:,:,0])"
   ]
  },
  {
   "cell_type": "code",
   "execution_count": 8,
   "metadata": {},
   "outputs": [],
   "source": [
    "def get_bottleneck_features(model, input_imgs):\n",
    "    features = model.predict(input_imgs, verbose=0)\n",
    "    return features"
   ]
  },
  {
   "cell_type": "code",
   "execution_count": 9,
   "metadata": {},
   "outputs": [
    {
     "name": "stdout",
     "output_type": "stream",
     "text": [
      "Train Bottleneck Features: (3000, 8192) \tValidation Bottleneck Features: (1000, 8192)\n"
     ]
    }
   ],
   "source": [
    "train_features_vgg = get_bottleneck_features(vgg_model, train_imgs_scaled)\n",
    "validation_features_vgg = get_bottleneck_features(vgg_model, validation_imgs_scaled)\n",
    "\n",
    "print('Train Bottleneck Features:', train_features_vgg.shape, \n",
    "      '\\tValidation Bottleneck Features:', validation_features_vgg.shape)"
   ]
  },
  {
   "cell_type": "code",
   "execution_count": 10,
   "metadata": {},
   "outputs": [],
   "source": [
    "from keras.layers import Conv2D, MaxPooling2D, Flatten, Dense, Dropout, InputLayer\n",
    "from keras.models import Sequential\n",
    "from keras import optimizers"
   ]
  },
  {
   "cell_type": "code",
   "execution_count": 11,
   "metadata": {},
   "outputs": [],
   "source": [
    "input_shape = vgg_model.output_shape[1]\n",
    "\n",
    "model = Sequential()\n",
    "model.add(InputLayer(input_shape=(input_shape,)))\n",
    "model.add(Dense(512, activation='relu', input_dim=input_shape))\n",
    "model.add(Dropout(0.3))\n",
    "model.add(Dense(512, activation='relu'))\n",
    "model.add(Dropout(0.3))\n",
    "model.add(Dense(1, activation='sigmoid'))"
   ]
  },
  {
   "cell_type": "code",
   "execution_count": 12,
   "metadata": {},
   "outputs": [],
   "source": [
    "model.compile(loss='binary_crossentropy',\n",
    "              optimizer=optimizers.RMSprop(lr=1e-4),\n",
    "              metrics=['accuracy'])"
   ]
  },
  {
   "cell_type": "code",
   "execution_count": 13,
   "metadata": {},
   "outputs": [
    {
     "name": "stdout",
     "output_type": "stream",
     "text": [
      "_________________________________________________________________\n",
      "Layer (type)                 Output Shape              Param #   \n",
      "=================================================================\n",
      "dense_1 (Dense)              (None, 512)               4194816   \n",
      "_________________________________________________________________\n",
      "dropout_1 (Dropout)          (None, 512)               0         \n",
      "_________________________________________________________________\n",
      "dense_2 (Dense)              (None, 512)               262656    \n",
      "_________________________________________________________________\n",
      "dropout_2 (Dropout)          (None, 512)               0         \n",
      "_________________________________________________________________\n",
      "dense_3 (Dense)              (None, 1)                 513       \n",
      "=================================================================\n",
      "Total params: 4,457,985\n",
      "Trainable params: 4,457,985\n",
      "Non-trainable params: 0\n",
      "_________________________________________________________________\n"
     ]
    }
   ],
   "source": [
    "model.summary()"
   ]
  },
  {
   "cell_type": "code",
   "execution_count": 14,
   "metadata": {},
   "outputs": [
    {
     "name": "stdout",
     "output_type": "stream",
     "text": [
      "Train on 3000 samples, validate on 1000 samples\n",
      "Epoch 1/30\n",
      "3000/3000 [==============================] - 9s 3ms/step - loss: 0.4180 - acc: 0.7970 - val_loss: 0.3339 - val_acc: 0.8510\n",
      "Epoch 2/30\n",
      "3000/3000 [==============================] - 3s 1ms/step - loss: 0.2870 - acc: 0.8773 - val_loss: 0.3338 - val_acc: 0.8580\n",
      "Epoch 3/30\n",
      "3000/3000 [==============================] - 3s 1ms/step - loss: 0.2348 - acc: 0.9013 - val_loss: 0.2706 - val_acc: 0.8850\n",
      "Epoch 4/30\n",
      "3000/3000 [==============================] - 3s 1ms/step - loss: 0.1996 - acc: 0.9130 - val_loss: 0.3561 - val_acc: 0.8460\n",
      "Epoch 5/30\n",
      "3000/3000 [==============================] - 4s 1ms/step - loss: 0.1656 - acc: 0.9297 - val_loss: 0.3395 - val_acc: 0.8580\n",
      "Epoch 6/30\n",
      "3000/3000 [==============================] - 3s 1ms/step - loss: 0.1538 - acc: 0.9353 - val_loss: 0.3818 - val_acc: 0.8510\n",
      "Epoch 7/30\n",
      "3000/3000 [==============================] - 3s 1ms/step - loss: 0.1177 - acc: 0.9507 - val_loss: 0.3191 - val_acc: 0.8750\n",
      "Epoch 8/30\n",
      "3000/3000 [==============================] - 4s 1ms/step - loss: 0.1016 - acc: 0.9623 - val_loss: 0.3104 - val_acc: 0.8960\n",
      "Epoch 9/30\n",
      "3000/3000 [==============================] - 4s 1ms/step - loss: 0.0851 - acc: 0.9697 - val_loss: 0.3087 - val_acc: 0.9010\n",
      "Epoch 10/30\n",
      "3000/3000 [==============================] - 4s 1ms/step - loss: 0.0681 - acc: 0.9720 - val_loss: 0.3912 - val_acc: 0.8950\n",
      "Epoch 11/30\n",
      "3000/3000 [==============================] - 4s 1ms/step - loss: 0.0503 - acc: 0.9813 - val_loss: 0.3930 - val_acc: 0.9020\n",
      "Epoch 12/30\n",
      "3000/3000 [==============================] - 3s 1ms/step - loss: 0.0434 - acc: 0.9853 - val_loss: 0.4082 - val_acc: 0.9030\n",
      "Epoch 13/30\n",
      "3000/3000 [==============================] - 3s 1ms/step - loss: 0.0366 - acc: 0.9887 - val_loss: 0.4121 - val_acc: 0.8930\n",
      "Epoch 14/30\n",
      "3000/3000 [==============================] - 3s 1ms/step - loss: 0.0259 - acc: 0.9917 - val_loss: 0.4484 - val_acc: 0.8970\n",
      "Epoch 15/30\n",
      "3000/3000 [==============================] - 3s 1ms/step - loss: 0.0229 - acc: 0.9900 - val_loss: 0.4653 - val_acc: 0.8880\n",
      "Epoch 16/30\n",
      "3000/3000 [==============================] - 4s 1ms/step - loss: 0.0184 - acc: 0.9943 - val_loss: 0.6602 - val_acc: 0.8860\n",
      "Epoch 17/30\n",
      "3000/3000 [==============================] - 4s 1ms/step - loss: 0.0191 - acc: 0.9930 - val_loss: 0.5223 - val_acc: 0.8980\n",
      "Epoch 18/30\n",
      "3000/3000 [==============================] - 6s 2ms/step - loss: 0.0207 - acc: 0.9930 - val_loss: 0.5366 - val_acc: 0.8890\n",
      "Epoch 19/30\n",
      "3000/3000 [==============================] - 4s 1ms/step - loss: 0.0062 - acc: 0.9980 - val_loss: 0.5658 - val_acc: 0.8960\n",
      "Epoch 20/30\n",
      "3000/3000 [==============================] - 3s 1ms/step - loss: 0.0188 - acc: 0.9947 - val_loss: 0.5965 - val_acc: 0.8980\n",
      "Epoch 21/30\n",
      "3000/3000 [==============================] - 3s 1ms/step - loss: 0.0175 - acc: 0.9943 - val_loss: 0.6032 - val_acc: 0.8820\n",
      "Epoch 22/30\n",
      "3000/3000 [==============================] - 3s 1ms/step - loss: 0.0062 - acc: 0.9987 - val_loss: 0.6535 - val_acc: 0.9010\n",
      "Epoch 23/30\n",
      "3000/3000 [==============================] - 3s 1ms/step - loss: 0.0042 - acc: 0.9990 - val_loss: 0.6447 - val_acc: 0.9010\n",
      "Epoch 24/30\n",
      "3000/3000 [==============================] - 3s 1ms/step - loss: 0.0050 - acc: 0.9980 - val_loss: 0.6893 - val_acc: 0.8990\n",
      "Epoch 25/30\n",
      "3000/3000 [==============================] - 3s 1ms/step - loss: 0.0097 - acc: 0.9963 - val_loss: 0.6710 - val_acc: 0.9020\n",
      "Epoch 26/30\n",
      "3000/3000 [==============================] - 3s 1ms/step - loss: 0.0044 - acc: 0.9977 - val_loss: 0.7076 - val_acc: 0.9010\n",
      "Epoch 27/30\n",
      "3000/3000 [==============================] - 3s 1ms/step - loss: 0.0038 - acc: 0.9983 - val_loss: 0.7403 - val_acc: 0.8940\n",
      "Epoch 28/30\n",
      "3000/3000 [==============================] - 4s 1ms/step - loss: 0.0059 - acc: 0.9980 - val_loss: 0.7798 - val_acc: 0.8970\n",
      "Epoch 29/30\n",
      "3000/3000 [==============================] - 4s 1ms/step - loss: 0.0178 - acc: 0.9963 - val_loss: 0.7511 - val_acc: 0.8940\n",
      "Epoch 30/30\n",
      "3000/3000 [==============================] - 3s 1ms/step - loss: 0.0014 - acc: 0.9993 - val_loss: 0.7824 - val_acc: 0.8960\n"
     ]
    }
   ],
   "source": [
    "history = model.fit(x=train_features_vgg, y=train_labels_enc,\n",
    "                    validation_data=(validation_features_vgg, validation_labels_enc),\n",
    "                    batch_size=batch_size,\n",
    "                    epochs=epochs,\n",
    "                    verbose=1)"
   ]
  },
  {
   "cell_type": "code",
   "execution_count": 15,
   "metadata": {},
   "outputs": [],
   "source": [
    "# save model\n",
    "import os\n",
    "\n",
    "if(not os.path.exists('saved_models')):\n",
    "    os.mkdir('saved_models')\n",
    "model.save('saved_models/pre_trained_tlearn.h5')"
   ]
  },
  {
   "cell_type": "code",
   "execution_count": 16,
   "metadata": {},
   "outputs": [],
   "source": [
    "# save history\n",
    "import pickle\n",
    "import os\n",
    "\n",
    "if(not os.path.exists('saved_history')):\n",
    "    os.mkdir('saved_history')\n",
    "f = open('saved_history/pre_trained_tlearn.pckl', 'wb')\n",
    "pickle.dump(history.history, f)\n",
    "f.close()"
   ]
  },
  {
   "cell_type": "code",
   "execution_count": 17,
   "metadata": {},
   "outputs": [],
   "source": [
    "# load history\n",
    "import pickle\n",
    "\n",
    "file = 'saved_history/pre_trained_tlearn.pckl'\n",
    "f = open(file, 'rb')\n",
    "hist = pickle.load(f)\n",
    "f.close()"
   ]
  },
  {
   "cell_type": "code",
   "execution_count": 18,
   "metadata": {},
   "outputs": [
    {
     "name": "stdout",
     "output_type": "stream",
     "text": [
      "importing Jupyter notebook from model_summary.ipynb\n"
     ]
    },
    {
     "data": {
      "image/png": "[encoded data removed]",
      "text/plain": [
       "<Figure size 864x288 with 2 Axes>"
      ]
     },
     "metadata": {
      "needs_background": "light"
     },
     "output_type": "display_data"
    }
   ],
   "source": [
    "# plot graph\n",
    "import import_ipynb\n",
    "from model_summary import plot_graph\n",
    "\n",
    "performance = 'Pre-trained CNN(Transfer learning) performance'\n",
    "plot_graph(performance, hist, 30)"
   ]
  },
  {
   "cell_type": "code",
   "execution_count": null,
   "metadata": {},
   "outputs": [],
   "source": []
  }
 ],
 "metadata": {
  "kernelspec": {
   "display_name": "Python 3",
   "language": "python",
   "name": "python3"
  },
  "language_info": {
   "codemirror_mode": {
    "name": "ipython",
    "version": 3
   },
   "file_extension": ".py",
   "mimetype": "text/x-python",
   "name": "python",
   "nbconvert_exporter": "python",
   "pygments_lexer": "ipython3",
   "version": "3.7.4"
  }
 },
 "nbformat": 4,
 "nbformat_minor": 4
}
