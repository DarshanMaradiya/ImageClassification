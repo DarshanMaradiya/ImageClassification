{
 "cells": [
  {
   "cell_type": "code",
   "execution_count": 1,
   "metadata": {
    "scrolled": false
   },
   "outputs": [
    {
     "name": "stderr",
     "output_type": "stream",
     "text": [
      "Using plaidml.keras.backend backend.\n"
     ]
    }
   ],
   "source": [
    "from keras.applications import vgg16\n",
    "from keras.models import Model\n",
    "from keras.layers import Conv2D, MaxPooling2D, Flatten, Dense, Dropout, InputLayer\n",
    "from keras.models import Sequential\n",
    "from keras import optimizers\n",
    "from keras.preprocessing.image import ImageDataGenerator, load_img, img_to_array, array_to_img\n",
    "import keras"
   ]
  },
  {
   "cell_type": "code",
   "execution_count": 2,
   "metadata": {},
   "outputs": [],
   "source": [
    "input_shape = (150, 150, 3)"
   ]
  },
  {
   "cell_type": "code",
   "execution_count": 3,
   "metadata": {},
   "outputs": [
    {
     "name": "stdout",
     "output_type": "stream",
     "text": [
      "importing Jupyter notebook from Dataset_utils.ipynb\n"
     ]
    }
   ],
   "source": [
    "import import_ipynb\n",
    "from Dataset_utils import get_imgs_labels, get_labels_enc"
   ]
  },
  {
   "cell_type": "code",
   "execution_count": 4,
   "metadata": {},
   "outputs": [],
   "source": [
    "train_imgs, _, validation_imgs, _ = get_imgs_labels()\n",
    "train_labels_enc, validation_labels_enc = get_labels_enc()"
   ]
  },
  {
   "cell_type": "code",
   "execution_count": 5,
   "metadata": {},
   "outputs": [],
   "source": [
    "train_datagen = ImageDataGenerator(rescale=1./255, zoom_range=0.3, rotation_range=50,\n",
    "                                   width_shift_range=0.2, height_shift_range=0.2, shear_range=0.2, \n",
    "                                   horizontal_flip=True, fill_mode='nearest')\n",
    "\n",
    "val_datagen = ImageDataGenerator(rescale=1./255)\n",
    "\n",
    "train_generator = train_datagen.flow(train_imgs, train_labels_enc, batch_size=30)\n",
    "val_generator = val_datagen.flow(validation_imgs, validation_labels_enc, batch_size=20)"
   ]
  },
  {
   "cell_type": "code",
   "execution_count": 6,
   "metadata": {},
   "outputs": [
    {
     "name": "stderr",
     "output_type": "stream",
     "text": [
      "INFO:plaidml:Opening device \"opencl_amd_hainan.0\"\n"
     ]
    }
   ],
   "source": [
    "vgg = vgg16.VGG16(include_top=False, weights='imagenet', \n",
    "                                     input_shape=input_shape)\n",
    "output = vgg.layers[-1].output\n",
    "output = keras.layers.Flatten()(output)\n",
    "vgg_model = Model(vgg.input, output)"
   ]
  },
  {
   "cell_type": "code",
   "execution_count": 7,
   "metadata": {},
   "outputs": [],
   "source": [
    "model = Sequential()\n",
    "model.add(vgg_model)\n",
    "model.add(Dense(512, activation='relu', input_dim=input_shape))\n",
    "model.add(Dropout(0.3))\n",
    "model.add(Dense(512, activation='relu'))\n",
    "model.add(Dropout(0.3))\n",
    "model.add(Dense(1, activation='sigmoid'))"
   ]
  },
  {
   "cell_type": "code",
   "execution_count": 8,
   "metadata": {},
   "outputs": [],
   "source": [
    "model.compile(loss='binary_crossentropy',\n",
    "              optimizer=optimizers.RMSprop(lr=2e-5),\n",
    "              metrics=['accuracy'])"
   ]
  },
  {
   "cell_type": "code",
   "execution_count": 10,
   "metadata": {
    "scrolled": true
   },
   "outputs": [
    {
     "name": "stdout",
     "output_type": "stream",
     "text": [
      "Epoch 1/10\n",
      "100/100 [==============================] - 1540s 15s/step - loss: 0.5158 - acc: 0.7317 - val_loss: 0.1863 - val_acc: 0.9230\n",
      "Epoch 2/10\n",
      "100/100 [==============================] - 1536s 15s/step - loss: 0.3092 - acc: 0.8673 - val_loss: 0.2325 - val_acc: 0.9100\n",
      "Epoch 3/10\n",
      "100/100 [==============================] - 1537s 15s/step - loss: 0.2495 - acc: 0.8917 - val_loss: 0.1066 - val_acc: 0.9570\n",
      "Epoch 4/10\n",
      "100/100 [==============================] - 1535s 15s/step - loss: 0.2177 - acc: 0.9143 - val_loss: 0.1277 - val_acc: 0.9490\n",
      "Epoch 5/10\n",
      "100/100 [==============================] - 1534s 15s/step - loss: 0.1871 - acc: 0.9220 - val_loss: 0.0796 - val_acc: 0.9680\n",
      "Epoch 6/10\n",
      "100/100 [==============================] - 1534s 15s/step - loss: 0.1767 - acc: 0.9273 - val_loss: 0.0868 - val_acc: 0.9620\n",
      "Epoch 7/10\n",
      "100/100 [==============================] - 1537s 15s/step - loss: 0.1581 - acc: 0.9373 - val_loss: 0.0913 - val_acc: 0.9590\n",
      "Epoch 8/10\n",
      "100/100 [==============================] - 1536s 15s/step - loss: 0.1373 - acc: 0.9517 - val_loss: 0.0608 - val_acc: 0.9800\n",
      "Epoch 9/10\n",
      "100/100 [==============================] - 2399s 24s/step - loss: 0.1370 - acc: 0.9507 - val_loss: 0.0811 - val_acc: 0.9610\n",
      "Epoch 10/10\n",
      "100/100 [==============================] - 3319s 33s/step - loss: 0.1231 - acc: 0.9573 - val_loss: 0.0921 - val_acc: 0.9650\n"
     ]
    }
   ],
   "source": [
    "history = model.fit_generator(train_generator, steps_per_epoch=100, epochs=10,\n",
    "                              validation_data=val_generator, validation_steps=50, \n",
    "                              verbose=1)"
   ]
  },
  {
   "cell_type": "code",
   "execution_count": 11,
   "metadata": {},
   "outputs": [],
   "source": [
    "# save model\n",
    "import os\n",
    "\n",
    "if(not os.path.exists('saved_models')):\n",
    "    os.mkdir('saved_models')\n",
    "model.save('saved_models/pre_trained_with_augmentation_tlearn.h5')"
   ]
  },
  {
   "cell_type": "code",
   "execution_count": 12,
   "metadata": {},
   "outputs": [],
   "source": [
    "import pickle\n",
    "import os\n",
    "\n",
    "if(not os.path.exists('saved_history')):\n",
    "    os.mkdir('saved_history')\n",
    "f = open('saved_history/pre_trained_with_augmentation_tlearn.pckl', 'wb')\n",
    "pickle.dump(history.history, f)\n",
    "f.close()"
   ]
  },
  {
   "cell_type": "code",
   "execution_count": 15,
   "metadata": {},
   "outputs": [],
   "source": [
    "# load history\n",
    "import pickle\n",
    "\n",
    "file = 'saved_history/pre_trained_with_augmentation_tlearn.pckl'\n",
    "f = open(file, 'rb')\n",
    "hist = pickle.load(f)\n",
    "f.close()"
   ]
  },
  {
   "cell_type": "code",
   "execution_count": 16,
   "metadata": {},
   "outputs": [
    {
     "data": {
      "image/png": "[encoded data removed]",
      "text/plain": [
       "<Figure size 864x288 with 2 Axes>"
      ]
     },
     "metadata": {
      "needs_background": "light"
     },
     "output_type": "display_data"
    }
   ],
   "source": [
    "# plot graph\n",
    "import import_ipynb\n",
    "from model_summary import plot_graph\n",
    "\n",
    "performance = 'Pre-trained CNN(Transfer learning) performance'\n",
    "plot_graph(performance, hist, 10)"
   ]
  },
  {
   "cell_type": "code",
   "execution_count": null,
   "metadata": {},
   "outputs": [],
   "source": []
  }
 ],
 "metadata": {
  "kernelspec": {
   "display_name": "Python 3",
   "language": "python",
   "name": "python3"
  },
  "language_info": {
   "codemirror_mode": {
    "name": "ipython",
    "version": 3
   },
   "file_extension": ".py",
   "mimetype": "text/x-python",
   "name": "python",
   "nbconvert_exporter": "python",
   "pygments_lexer": "ipython3",
   "version": "3.7.4"
  }
 },
 "nbformat": 4,
 "nbformat_minor": 4
}
