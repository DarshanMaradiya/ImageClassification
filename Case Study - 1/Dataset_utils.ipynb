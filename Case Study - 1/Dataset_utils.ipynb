{
 "cells": [
  {
   "cell_type": "markdown",
   "metadata": {},
   "source": [
    "# Dataset Utils"
   ]
  },
  {
   "cell_type": "code",
   "execution_count": 1,
   "metadata": {},
   "outputs": [
    {
     "name": "stderr",
     "output_type": "stream",
     "text": [
      "Using plaidml.keras.backend backend.\n"
     ]
    }
   ],
   "source": [
    "import glob\n",
    "import numpy as np\n",
    "import matplotlib.pyplot as plt\n",
    "from sklearn.preprocessing import LabelEncoder\n",
    "from keras.preprocessing.image import ImageDataGenerator, load_img, img_to_array, array_to_img\n",
    "%matplotlib inline"
   ]
  },
  {
   "cell_type": "code",
   "execution_count": 2,
   "metadata": {},
   "outputs": [],
   "source": [
    "def get_imgs_labels():\n",
    "    IMG_DIM = (150, 150)\n",
    "    \n",
    "    train_files = glob.glob('training_data/*')\n",
    "    train_imgs = [img_to_array(load_img(img, target_size=IMG_DIM)) for img in train_files]\n",
    "    train_imgs = np.array(train_imgs)\n",
    "    train_labels = [fn.split('\\\\')[1].split('.')[0].strip() for fn in train_files]\n",
    "\n",
    "    validation_files = glob.glob('validation_data/*')\n",
    "    validation_imgs = [img_to_array(load_img(img, target_size=IMG_DIM)) for img in validation_files]\n",
    "    validation_imgs = np.array(validation_imgs)\n",
    "    validation_labels = [fn.split('\\\\')[1].split('.')[0].strip() for fn in validation_files]\n",
    "    \n",
    "    return train_imgs, train_labels, validation_imgs, validation_labels"
   ]
  },
  {
   "cell_type": "markdown",
   "metadata": {},
   "source": [
    "### Preprocessing images"
   ]
  },
  {
   "cell_type": "code",
   "execution_count": 3,
   "metadata": {},
   "outputs": [],
   "source": [
    "def get_imgs_scaled():\n",
    "    train_imgs, _, validation_imgs, _ = get_imgs_labels()\n",
    "    \n",
    "    train_imgs_scaled = train_imgs.astype('float32')\n",
    "    validation_imgs_scaled  = validation_imgs.astype('float32')\n",
    "    \n",
    "    train_imgs_scaled /= 255\n",
    "    validation_imgs_scaled /= 255\n",
    "    \n",
    "    return train_imgs_scaled, validation_imgs_scaled"
   ]
  },
  {
   "cell_type": "markdown",
   "metadata": {},
   "source": [
    "### Preprocessing labels - One hot encoder"
   ]
  },
  {
   "cell_type": "code",
   "execution_count": 4,
   "metadata": {},
   "outputs": [],
   "source": [
    "def get_labels_enc():\n",
    "    _, train_labels, _, validation_labels = get_imgs_labels()\n",
    "    \n",
    "    le = LabelEncoder()\n",
    "    le.fit(train_labels)\n",
    "    \n",
    "    train_labels_enc = le.transform(train_labels)\n",
    "    validation_labels_enc = le.transform(validation_labels)\n",
    "    \n",
    "    return train_labels_enc, validation_labels_enc"
   ]
  }
 ],
 "metadata": {
  "kernelspec": {
   "display_name": "Python 3",
   "language": "python",
   "name": "python3"
  },
  "language_info": {
   "codemirror_mode": {
    "name": "ipython",
    "version": 3
   },
   "file_extension": ".py",
   "mimetype": "text/x-python",
   "name": "python",
   "nbconvert_exporter": "python",
   "pygments_lexer": "ipython3",
   "version": "3.7.4"
  }
 },
 "nbformat": 4,
 "nbformat_minor": 4
}
