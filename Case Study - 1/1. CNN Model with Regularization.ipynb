{
 "cells": [
  {
   "cell_type": "code",
   "execution_count": 1,
   "metadata": {},
   "outputs": [
    {
     "name": "stderr",
     "output_type": "stream",
     "text": [
      "Using plaidml.keras.backend backend.\n"
     ]
    }
   ],
   "source": [
    "from keras.layers import Conv2D, MaxPooling2D, Flatten, Dense, Dropout\n",
    "from keras.models import Sequential\n",
    "from keras import optimizers"
   ]
  },
  {
   "cell_type": "code",
   "execution_count": 2,
   "metadata": {},
   "outputs": [],
   "source": [
    "batch_size = 30\n",
    "num_classes = 2\n",
    "epochs = 30\n",
    "input_shape = (150, 150, 3)"
   ]
  },
  {
   "cell_type": "code",
   "execution_count": 3,
   "metadata": {
    "scrolled": true
   },
   "outputs": [
    {
     "name": "stderr",
     "output_type": "stream",
     "text": [
      "INFO:plaidml:Opening device \"opencl_amd_hainan.0\"\n"
     ]
    }
   ],
   "source": [
    "model = Sequential()\n",
    "\n",
    "model.add(Conv2D(16, kernel_size=(3, 3), activation='relu', \n",
    "                 input_shape=input_shape))\n",
    "model.add(MaxPooling2D(pool_size=(2, 2)))\n",
    "\n",
    "model.add(Conv2D(64, kernel_size=(3, 3), activation='relu'))\n",
    "model.add(MaxPooling2D(pool_size=(2, 2)))\n",
    "\n",
    "model.add(Conv2D(128, kernel_size=(3, 3), activation='relu'))\n",
    "model.add(MaxPooling2D(pool_size=(2, 2)))\n",
    "\n",
    "model.add(Conv2D(128, kernel_size=(3, 3), activation='relu'))\n",
    "model.add(MaxPooling2D(pool_size=(2, 2)))\n",
    "\n",
    "model.add(Flatten())\n",
    "model.add(Dense(512, activation='relu'))\n",
    "model.add(Dropout(0.3))\n",
    "model.add(Dense(512, activation='relu'))\n",
    "model.add(Dropout(0.3))\n",
    "model.add(Dense(1, activation='sigmoid'))"
   ]
  },
  {
   "cell_type": "code",
   "execution_count": 4,
   "metadata": {},
   "outputs": [],
   "source": [
    "model.compile(loss='binary_crossentropy',\n",
    "              optimizer=optimizers.RMSprop(),\n",
    "              metrics=['accuracy'])"
   ]
  },
  {
   "cell_type": "code",
   "execution_count": 5,
   "metadata": {},
   "outputs": [
    {
     "name": "stdout",
     "output_type": "stream",
     "text": [
      "importing Jupyter notebook from Dataset_utils.ipynb\n"
     ]
    }
   ],
   "source": [
    "import import_ipynb\n",
    "from Dataset_utils import get_imgs_scaled, get_labels_enc\n",
    "\n",
    "train_imgs_scaled, validation_imgs_scaled = get_imgs_scaled()\n",
    "train_labels_enc, validation_labels_enc = get_labels_enc()"
   ]
  },
  {
   "cell_type": "code",
   "execution_count": 6,
   "metadata": {},
   "outputs": [
    {
     "name": "stdout",
     "output_type": "stream",
     "text": [
      "Train on 3000 samples, validate on 1000 samples\n",
      "Epoch 1/30\n",
      "3000/3000 [==============================] - 67s 22ms/step - loss: 0.7426 - acc: 0.5223 - val_loss: 0.6876 - val_acc: 0.5390\n",
      "Epoch 2/30\n",
      "3000/3000 [==============================] - 50s 17ms/step - loss: 0.6860 - acc: 0.5563 - val_loss: 0.6708 - val_acc: 0.5540\n",
      "Epoch 3/30\n",
      "3000/3000 [==============================] - 50s 17ms/step - loss: 0.6624 - acc: 0.6117 - val_loss: 0.6425 - val_acc: 0.6590\n",
      "Epoch 4/30\n",
      "3000/3000 [==============================] - 50s 17ms/step - loss: 0.6367 - acc: 0.6437 - val_loss: 0.5889 - val_acc: 0.6870\n",
      "Epoch 5/30\n",
      "3000/3000 [==============================] - 50s 17ms/step - loss: 0.5799 - acc: 0.7090 - val_loss: 0.5603 - val_acc: 0.7210\n",
      "Epoch 6/30\n",
      "3000/3000 [==============================] - 50s 17ms/step - loss: 0.5484 - acc: 0.7343 - val_loss: 0.5283 - val_acc: 0.7190\n",
      "Epoch 7/30\n",
      "3000/3000 [==============================] - 50s 17ms/step - loss: 0.5083 - acc: 0.7530 - val_loss: 0.6011 - val_acc: 0.6900\n",
      "Epoch 8/30\n",
      "3000/3000 [==============================] - 50s 17ms/step - loss: 0.4721 - acc: 0.7760 - val_loss: 0.4896 - val_acc: 0.7680\n",
      "Epoch 9/30\n",
      "3000/3000 [==============================] - 50s 17ms/step - loss: 0.4368 - acc: 0.8030 - val_loss: 0.5498 - val_acc: 0.7380\n",
      "Epoch 10/30\n",
      "3000/3000 [==============================] - 51s 17ms/step - loss: 0.4019 - acc: 0.8263 - val_loss: 0.4990 - val_acc: 0.7710\n",
      "Epoch 11/30\n",
      "3000/3000 [==============================] - 51s 17ms/step - loss: 0.3555 - acc: 0.8493 - val_loss: 0.5753 - val_acc: 0.7750\n",
      "Epoch 12/30\n",
      "3000/3000 [==============================] - 51s 17ms/step - loss: 0.3004 - acc: 0.8797 - val_loss: 0.6023 - val_acc: 0.7160\n",
      "Epoch 13/30\n",
      "3000/3000 [==============================] - 50s 17ms/step - loss: 0.2618 - acc: 0.8973 - val_loss: 0.6209 - val_acc: 0.7700\n",
      "Epoch 14/30\n",
      "3000/3000 [==============================] - 51s 17ms/step - loss: 0.2246 - acc: 0.9067 - val_loss: 0.8355 - val_acc: 0.7720\n",
      "Epoch 15/30\n",
      "3000/3000 [==============================] - 50s 17ms/step - loss: 0.2150 - acc: 0.9187 - val_loss: 0.7920 - val_acc: 0.7930\n",
      "Epoch 16/30\n",
      "3000/3000 [==============================] - 50s 17ms/step - loss: 0.1694 - acc: 0.9363 - val_loss: 0.6914 - val_acc: 0.7720\n",
      "Epoch 17/30\n",
      "3000/3000 [==============================] - 51s 17ms/step - loss: 0.1222 - acc: 0.9493 - val_loss: 0.8697 - val_acc: 0.7660\n",
      "Epoch 18/30\n",
      "3000/3000 [==============================] - 50s 17ms/step - loss: 0.1335 - acc: 0.9540 - val_loss: 1.1631 - val_acc: 0.7710\n",
      "Epoch 19/30\n",
      "3000/3000 [==============================] - 51s 17ms/step - loss: 0.1293 - acc: 0.9570 - val_loss: 0.8947 - val_acc: 0.7770\n",
      "Epoch 20/30\n",
      "3000/3000 [==============================] - 50s 17ms/step - loss: 0.1349 - acc: 0.9557 - val_loss: 1.0671 - val_acc: 0.7980\n",
      "Epoch 21/30\n",
      "3000/3000 [==============================] - 50s 17ms/step - loss: 0.1248 - acc: 0.9670 - val_loss: 1.0603 - val_acc: 0.7670\n",
      "Epoch 22/30\n",
      "3000/3000 [==============================] - 50s 17ms/step - loss: 0.0990 - acc: 0.9677 - val_loss: 1.1524 - val_acc: 0.7650\n",
      "Epoch 23/30\n",
      "3000/3000 [==============================] - 50s 17ms/step - loss: 0.0929 - acc: 0.9703 - val_loss: 1.2163 - val_acc: 0.7780\n",
      "Epoch 24/30\n",
      "3000/3000 [==============================] - 50s 17ms/step - loss: 0.0963 - acc: 0.9703 - val_loss: 1.4558 - val_acc: 0.7870\n",
      "Epoch 25/30\n",
      "3000/3000 [==============================] - 50s 17ms/step - loss: 0.0967 - acc: 0.9740 - val_loss: 1.4086 - val_acc: 0.7640\n",
      "Epoch 26/30\n",
      "3000/3000 [==============================] - 50s 17ms/step - loss: 0.0891 - acc: 0.9787 - val_loss: 1.0776 - val_acc: 0.7420\n",
      "Epoch 27/30\n",
      "3000/3000 [==============================] - 50s 17ms/step - loss: 0.0965 - acc: 0.9780 - val_loss: 1.3532 - val_acc: 0.7450\n",
      "Epoch 28/30\n",
      "3000/3000 [==============================] - 50s 17ms/step - loss: 0.1624 - acc: 0.9677 - val_loss: 2.0337 - val_acc: 0.7600\n",
      "Epoch 29/30\n",
      "3000/3000 [==============================] - 50s 17ms/step - loss: 0.0951 - acc: 0.9727 - val_loss: 1.3749 - val_acc: 0.7470\n",
      "Epoch 30/30\n",
      "3000/3000 [==============================] - 50s 17ms/step - loss: 0.1471 - acc: 0.9593 - val_loss: 1.0686 - val_acc: 0.7680\n"
     ]
    }
   ],
   "source": [
    "history = model.fit(x=train_imgs_scaled, y=train_labels_enc,\n",
    "                    validation_data=(validation_imgs_scaled, validation_labels_enc),\n",
    "                    batch_size=batch_size,\n",
    "                    epochs=epochs,\n",
    "                    verbose=1)"
   ]
  },
  {
   "cell_type": "code",
   "execution_count": 10,
   "metadata": {},
   "outputs": [],
   "source": [
    "# save model\n",
    "import os\n",
    "\n",
    "if(not os.path.exists('saved_model')):\n",
    "    os.mkdir('saved_model')\n",
    "model.save('saved_models/cnn_model_with_ragularization.h5')"
   ]
  },
  {
   "cell_type": "code",
   "execution_count": 16,
   "metadata": {},
   "outputs": [],
   "source": [
    "# save history\n",
    "import pickle\n",
    "import os\n",
    "\n",
    "if(not os.path.exists('saved_history')):\n",
    "    os.mkdir('saved_history')\n",
    "f = open('saved_history/cnn_model_with_ragularization.pckl', 'wb')\n",
    "pickle.dump(history.history, f)\n",
    "f.close()"
   ]
  },
  {
   "cell_type": "code",
   "execution_count": 17,
   "metadata": {},
   "outputs": [],
   "source": [
    "# load history\n",
    "import pickle\n",
    "\n",
    "file = 'saved_history/cnn_model_with_ragularization.pckl'\n",
    "f = open(file, 'rb')\n",
    "hist = pickle.load(f)\n",
    "f.close()"
   ]
  },
  {
   "cell_type": "code",
   "execution_count": 19,
   "metadata": {},
   "outputs": [
    {
     "data": {
      "image/png": "[encoded data removed]",
      "text/plain": [
       "<Figure size 864x288 with 2 Axes>"
      ]
     },
     "metadata": {
      "needs_background": "light"
     },
     "output_type": "display_data"
    }
   ],
   "source": [
    "# plot graph\n",
    "import import_ipynb\n",
    "from model_summary import plot_graph\n",
    "\n",
    "performance = 'Basic CNN performance'\n",
    "plot_graph(performance, hist, 30)"
   ]
  },
  {
   "cell_type": "code",
   "execution_count": null,
   "metadata": {},
   "outputs": [],
   "source": []
  }
 ],
 "metadata": {
  "kernelspec": {
   "display_name": "Python 3",
   "language": "python",
   "name": "python3"
  },
  "language_info": {
   "codemirror_mode": {
    "name": "ipython",
    "version": 3
   },
   "file_extension": ".py",
   "mimetype": "text/x-python",
   "name": "python",
   "nbconvert_exporter": "python",
   "pygments_lexer": "ipython3",
   "version": "3.7.4"
  }
 },
 "nbformat": 4,
 "nbformat_minor": 4
}
