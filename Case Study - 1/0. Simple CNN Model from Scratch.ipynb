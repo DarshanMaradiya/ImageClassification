{
 "cells": [
  {
   "cell_type": "markdown",
   "metadata": {},
   "source": [
    "# Simple CNN model from Scratch"
   ]
  },
  {
   "cell_type": "code",
   "execution_count": 1,
   "metadata": {},
   "outputs": [
    {
     "name": "stderr",
     "output_type": "stream",
     "text": [
      "Using plaidml.keras.backend backend.\n"
     ]
    }
   ],
   "source": [
    "from keras.layers import Conv2D, MaxPooling2D, Flatten, Dense, Dropout\n",
    "from keras.models import Sequential\n",
    "from keras import optimizers"
   ]
  },
  {
   "cell_type": "code",
   "execution_count": 2,
   "metadata": {},
   "outputs": [],
   "source": [
    "batch_size = 30\n",
    "num_classes = 2\n",
    "epochs = 30\n",
    "input_shape = (150, 150, 3)"
   ]
  },
  {
   "cell_type": "code",
   "execution_count": 3,
   "metadata": {},
   "outputs": [
    {
     "name": "stderr",
     "output_type": "stream",
     "text": [
      "INFO:plaidml:Opening device \"opencl_amd_hainan.0\"\n"
     ]
    }
   ],
   "source": [
    "model = Sequential()\n",
    "\n",
    "model.add(Conv2D(16, kernel_size=(3, 3), activation='relu', \n",
    "                 input_shape=input_shape))\n",
    "model.add(MaxPooling2D(pool_size=(2, 2)))\n",
    "\n",
    "model.add(Conv2D(64, kernel_size=(3, 3), activation='relu'))\n",
    "model.add(MaxPooling2D(pool_size=(2, 2)))\n",
    "\n",
    "model.add(Conv2D(128, kernel_size=(3, 3), activation='relu'))\n",
    "model.add(MaxPooling2D(pool_size=(2, 2)))\n",
    "\n",
    "model.add(Flatten())\n",
    "model.add(Dense(512, activation='relu'))\n",
    "model.add(Dense(1, activation='sigmoid'))"
   ]
  },
  {
   "cell_type": "code",
   "execution_count": 4,
   "metadata": {},
   "outputs": [],
   "source": [
    "model.compile(loss='binary_crossentropy',\n",
    "              optimizer=optimizers.RMSprop(),\n",
    "              metrics=['accuracy'])"
   ]
  },
  {
   "cell_type": "code",
   "execution_count": 5,
   "metadata": {},
   "outputs": [
    {
     "name": "stdout",
     "output_type": "stream",
     "text": [
      "_________________________________________________________________\n",
      "Layer (type)                 Output Shape              Param #   \n",
      "=================================================================\n",
      "conv2d_1 (Conv2D)            (None, 148, 148, 16)      448       \n",
      "_________________________________________________________________\n",
      "max_pooling2d_1 (MaxPooling2 (None, 74, 74, 16)        0         \n",
      "_________________________________________________________________\n",
      "conv2d_2 (Conv2D)            (None, 72, 72, 64)        9280      \n",
      "_________________________________________________________________\n",
      "max_pooling2d_2 (MaxPooling2 (None, 36, 36, 64)        0         \n",
      "_________________________________________________________________\n",
      "conv2d_3 (Conv2D)            (None, 34, 34, 128)       73856     \n",
      "_________________________________________________________________\n",
      "max_pooling2d_3 (MaxPooling2 (None, 17, 17, 128)       0         \n",
      "_________________________________________________________________\n",
      "flatten_1 (Flatten)          (None, 36992)             0         \n",
      "_________________________________________________________________\n",
      "dense_1 (Dense)              (None, 512)               18940416  \n",
      "_________________________________________________________________\n",
      "dense_2 (Dense)              (None, 1)                 513       \n",
      "=================================================================\n",
      "Total params: 19,024,513\n",
      "Trainable params: 19,024,513\n",
      "Non-trainable params: 0\n",
      "_________________________________________________________________\n"
     ]
    }
   ],
   "source": [
    "model.summary()"
   ]
  },
  {
   "cell_type": "markdown",
   "metadata": {},
   "source": [
    "### Importing dataset from Dataset_utils"
   ]
  },
  {
   "cell_type": "code",
   "execution_count": 6,
   "metadata": {},
   "outputs": [
    {
     "name": "stdout",
     "output_type": "stream",
     "text": [
      "importing Jupyter notebook from Dataset_utils.ipynb\n"
     ]
    }
   ],
   "source": [
    "import import_ipynb\n",
    "from Dataset_utils import get_imgs_scaled, get_labels_enc"
   ]
  },
  {
   "cell_type": "code",
   "execution_count": 7,
   "metadata": {},
   "outputs": [],
   "source": [
    "train_imgs_scaled, validation_imgs_scaled = get_imgs_scaled()\n",
    "train_labels_enc, validation_labels_enc = get_labels_enc()"
   ]
  },
  {
   "cell_type": "code",
   "execution_count": 8,
   "metadata": {},
   "outputs": [
    {
     "name": "stdout",
     "output_type": "stream",
     "text": [
      "Train on 3000 samples, validate on 1000 samples\n",
      "Epoch 1/30\n",
      "3000/3000 [==============================] - 70s 23ms/step - loss: 0.8142 - acc: 0.5523 - val_loss: 0.6574 - val_acc: 0.5730\n",
      "Epoch 2/30\n",
      "3000/3000 [==============================] - 58s 19ms/step - loss: 0.6291 - acc: 0.6577 - val_loss: 0.5767 - val_acc: 0.6970\n",
      "Epoch 3/30\n",
      "3000/3000 [==============================] - 58s 19ms/step - loss: 0.5483 - acc: 0.7213 - val_loss: 0.5403 - val_acc: 0.7060\n",
      "Epoch 4/30\n",
      "3000/3000 [==============================] - 59s 20ms/step - loss: 0.4665 - acc: 0.7663 - val_loss: 0.5668 - val_acc: 0.7200\n",
      "Epoch 5/30\n",
      "3000/3000 [==============================] - 58s 19ms/step - loss: 0.3842 - acc: 0.8257 - val_loss: 0.6145 - val_acc: 0.7200\n",
      "Epoch 6/30\n",
      "3000/3000 [==============================] - 59s 20ms/step - loss: 0.2897 - acc: 0.8723 - val_loss: 0.7016 - val_acc: 0.7050\n",
      "Epoch 7/30\n",
      "3000/3000 [==============================] - 58s 19ms/step - loss: 0.2081 - acc: 0.9193 - val_loss: 0.8269 - val_acc: 0.7060\n",
      "Epoch 8/30\n",
      "3000/3000 [==============================] - 58s 19ms/step - loss: 0.1516 - acc: 0.9453 - val_loss: 1.1834 - val_acc: 0.6520\n",
      "Epoch 9/30\n",
      "3000/3000 [==============================] - 58s 19ms/step - loss: 0.0918 - acc: 0.9687 - val_loss: 1.2704 - val_acc: 0.7180\n",
      "Epoch 10/30\n",
      "3000/3000 [==============================] - 58s 19ms/step - loss: 0.0524 - acc: 0.9810 - val_loss: 1.6262 - val_acc: 0.7150\n",
      "Epoch 11/30\n",
      "3000/3000 [==============================] - 58s 19ms/step - loss: 0.0612 - acc: 0.9837 - val_loss: 1.4284 - val_acc: 0.6940\n",
      "Epoch 12/30\n",
      "3000/3000 [==============================] - 58s 19ms/step - loss: 0.0633 - acc: 0.9803 - val_loss: 1.5117 - val_acc: 0.7090\n",
      "Epoch 13/30\n",
      "3000/3000 [==============================] - 59s 20ms/step - loss: 0.0726 - acc: 0.9867 - val_loss: 1.2832 - val_acc: 0.6980\n",
      "Epoch 14/30\n",
      "3000/3000 [==============================] - 58s 19ms/step - loss: 0.0525 - acc: 0.9867 - val_loss: 1.5335 - val_acc: 0.7160\n",
      "Epoch 15/30\n",
      "3000/3000 [==============================] - 58s 19ms/step - loss: 0.0175 - acc: 0.9933 - val_loss: 1.9776 - val_acc: 0.7090\n",
      "Epoch 16/30\n",
      "3000/3000 [==============================] - 58s 19ms/step - loss: 0.0159 - acc: 0.9960 - val_loss: 2.0644 - val_acc: 0.7080\n",
      "Epoch 17/30\n",
      "3000/3000 [==============================] - 58s 19ms/step - loss: 0.0450 - acc: 0.9913 - val_loss: 2.0341 - val_acc: 0.7160\n",
      "Epoch 18/30\n",
      "3000/3000 [==============================] - 58s 19ms/step - loss: 0.0228 - acc: 0.9943 - val_loss: 2.0818 - val_acc: 0.7240\n",
      "Epoch 19/30\n",
      "3000/3000 [==============================] - 58s 19ms/step - loss: 0.0401 - acc: 0.9917 - val_loss: 2.2792 - val_acc: 0.6960\n",
      "Epoch 20/30\n",
      "3000/3000 [==============================] - 59s 20ms/step - loss: 0.0349 - acc: 0.9953 - val_loss: 2.3931 - val_acc: 0.7020\n",
      "Epoch 21/30\n",
      "3000/3000 [==============================] - 59s 20ms/step - loss: 0.0441 - acc: 0.9913 - val_loss: 2.4635 - val_acc: 0.7060\n",
      "Epoch 22/30\n",
      "3000/3000 [==============================] - 59s 20ms/step - loss: 0.0443 - acc: 0.9887 - val_loss: 2.3144 - val_acc: 0.6860\n",
      "Epoch 23/30\n",
      "3000/3000 [==============================] - 58s 19ms/step - loss: 0.0188 - acc: 0.9960 - val_loss: 2.6160 - val_acc: 0.7050\n",
      "Epoch 24/30\n",
      "3000/3000 [==============================] - 58s 19ms/step - loss: 0.0251 - acc: 0.9937 - val_loss: 2.4978 - val_acc: 0.7070\n",
      "Epoch 25/30\n",
      "3000/3000 [==============================] - 58s 19ms/step - loss: 0.0509 - acc: 0.9923 - val_loss: 2.2262 - val_acc: 0.7080\n",
      "Epoch 26/30\n",
      "3000/3000 [==============================] - 58s 19ms/step - loss: 0.0253 - acc: 0.9937 - val_loss: 2.2333 - val_acc: 0.6930\n",
      "Epoch 27/30\n",
      "3000/3000 [==============================] - 59s 20ms/step - loss: 0.0111 - acc: 0.9977 - val_loss: 2.5136 - val_acc: 0.7200\n",
      "Epoch 28/30\n",
      "3000/3000 [==============================] - 58s 19ms/step - loss: 0.0698 - acc: 0.9903 - val_loss: 2.7970 - val_acc: 0.7030\n",
      "Epoch 29/30\n",
      "3000/3000 [==============================] - 58s 19ms/step - loss: 0.0168 - acc: 0.9950 - val_loss: 2.5435 - val_acc: 0.7170\n",
      "Epoch 30/30\n",
      "3000/3000 [==============================] - 58s 19ms/step - loss: 0.0113 - acc: 0.9967 - val_loss: 2.8776 - val_acc: 0.7100\n"
     ]
    }
   ],
   "source": [
    "history = model.fit(x=train_imgs_scaled, y=train_labels_enc,\n",
    "                    validation_data=(validation_imgs_scaled, validation_labels_enc),\n",
    "                    batch_size=batch_size,\n",
    "                    epochs=epochs,\n",
    "                    verbose=1)"
   ]
  },
  {
   "cell_type": "code",
   "execution_count": 9,
   "metadata": {},
   "outputs": [],
   "source": [
    "# save model\n",
    "import os\n",
    "\n",
    "if(not os.path.exists('saved_models')):\n",
    "    os.mkdir('saved_models')\n",
    "model.save('saved_models/simple_cnn_model.h5')"
   ]
  },
  {
   "cell_type": "code",
   "execution_count": 10,
   "metadata": {},
   "outputs": [],
   "source": [
    "import pickle\n",
    "import os\n",
    "\n",
    "if(not os.path.exists('saved_history')):\n",
    "    os.mkdir('saved_history')\n",
    "f = open('saved_history/simple_cnn_model.pckl', 'wb')\n",
    "pickle.dump(history.history, f)\n",
    "f.close()"
   ]
  },
  {
   "cell_type": "code",
   "execution_count": 12,
   "metadata": {},
   "outputs": [],
   "source": [
    "import pickle\n",
    "\n",
    "file = 'saved_history/simple_cnn_model.pckl'\n",
    "f = open(file, 'rb')\n",
    "hist = pickle.load(f)\n",
    "f.close()"
   ]
  },
  {
   "cell_type": "code",
   "execution_count": 13,
   "metadata": {},
   "outputs": [
    {
     "name": "stdout",
     "output_type": "stream",
     "text": [
      "importing Jupyter notebook from model_summary.ipynb\n"
     ]
    }
   ],
   "source": [
    "import import_ipynb\n",
    "from model_summary import plot_graph"
   ]
  },
  {
   "cell_type": "code",
   "execution_count": 14,
   "metadata": {},
   "outputs": [
    {
     "data": {
      "image/png": "[encoded data removed]",
      "text/plain": [
       "<Figure size 864x288 with 2 Axes>"
      ]
     },
     "metadata": {
      "needs_background": "light"
     },
     "output_type": "display_data"
    }
   ],
   "source": [
    "performance = 'Performance simple CNN'\n",
    "plot_graph(performance, hist, 30)"
   ]
  },
  {
   "cell_type": "code",
   "execution_count": null,
   "metadata": {},
   "outputs": [],
   "source": []
  }
 ],
 "metadata": {
  "kernelspec": {
   "display_name": "Python 3",
   "language": "python",
   "name": "python3"
  },
  "language_info": {
   "codemirror_mode": {
    "name": "ipython",
    "version": 3
   },
   "file_extension": ".py",
   "mimetype": "text/x-python",
   "name": "python",
   "nbconvert_exporter": "python",
   "pygments_lexer": "ipython3",
   "version": "3.7.4"
  }
 },
 "nbformat": 4,
 "nbformat_minor": 4
}
